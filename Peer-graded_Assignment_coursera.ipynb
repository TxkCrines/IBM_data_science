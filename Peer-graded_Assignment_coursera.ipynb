{
  "metadata": {
    "kernelspec": {
      "name": "python",
      "display_name": "Python (Pyodide)",
      "language": "python"
    },
    "language_info": {
      "codemirror_mode": {
        "name": "python",
        "version": 3
      },
      "file_extension": ".py",
      "mimetype": "text/x-python",
      "name": "python",
      "nbconvert_exporter": "python",
      "pygments_lexer": "ipython3",
      "version": "3.8"
    }
  },
  "nbformat_minor": 5,
  "nbformat": 4,
  "cells": [
    {
      "cell_type": "markdown",
      "source": "There are a total of 25 points possible for this final project.\n\n\n\nExercise 2 - Create a markdown cell with the title of the notebook. (1 pt)\n\nExercise 3 - Create a markdown cell for an introduction. (1 pt)\n\nExercise 4 - Create a markdown cell to list data science languages. (3 pts)\n\nExercise 5 - Create a markdown cell to list data science libraries. (3 pts)\n\nExercise 6 - Create a markdown cell with a table of Data Science tools. (3 pts)\n\nExercise 7 - Create a markdown cell introducing arithmetic expression examples. (1 pt)\n\nExercise 8 - Create a code cell to multiply and add numbers. (2 pts)\n\nExercise 9 - Create a code cell to convert minutes to hours. (2 pts)\n\nExercise 10 -Insert a markdown cell to list Objectives. (3 pts)\n\nExercise 11 - Create a markdown cell to indicate the Author’s name. (2 pts)\n\nExercise 12 - Share your notebook through GitHub (3 pts)\n\nExercise 13 - Take a screenshot of the first page of the notebook. (1 pt)",
      "metadata": {},
      "id": "ac87716b-1278-47f9-bec9-42d8f7c4d591"
    },
    {
      "cell_type": "markdown",
      "source": "<h2>Exercise 2 - Create a markdown cell with the title of the notebook.",
      "metadata": {},
      "id": "fbe3312d-1bc3-4a88-9f0c-b3c4b32e71ef"
    },
    {
      "cell_type": "markdown",
      "source": "<h2>Title: Peer-graded_Assignment_Coursera",
      "metadata": {},
      "id": "90642806-01ec-49c8-868c-a667c92cdc6c"
    },
    {
      "cell_type": "markdown",
      "source": "<h2>Exercise 3 - Create a markdown cell for an introduction.",
      "metadata": {},
      "id": "a5b74512-a6ff-4dd2-89cc-d493d3bfd9fe"
    },
    {
      "cell_type": "markdown",
      "source": "<h2>This is a Peer-graded assignment work for IBM data science_Tools for data science",
      "metadata": {},
      "id": "728d9b1f-1d0b-4eb3-996a-4453c25444b4"
    },
    {
      "cell_type": "markdown",
      "source": "<h2>Exercise 4 - Create a markdown cell to list data science languages.",
      "metadata": {},
      "id": "6015b630-954a-4096-bfc0-dc28b53a378c"
    },
    {
      "cell_type": "markdown",
      "source": "<h2>Data Science Languages:\n<ol>\n    <li>Python.\n    <li>R.\n    <li>SQL.\n    <li>Java.\n    <li>JavaScript.\n    <li>Scala.\n    <li>C++.\n    <li>Julia.\n</ol>\n",
      "metadata": {},
      "id": "3c957deb-56d8-43b4-9ab9-7f5efea83c17"
    },
    {
      "cell_type": "markdown",
      "source": "<h2>Exercise 5 - Create a markdown cell to list data science libraries.",
      "metadata": {},
      "id": "2e054783-ae15-402a-8391-6fbb81ec784a"
    },
    {
      "cell_type": "markdown",
      "source": "<h2>Data Science libraries:\n<ol>\n    <li>TensorFlow.\n    <li>NumPy.\n    <li>SciPy.\n    <li>Pandas.\n    <li>IBM Db2 Database.\n    <li>MySQL.\n    <li>SciKit-Learn.\n    <li>PyTorch.\n    <li>dplyr.\n</ol>",
      "metadata": {},
      "id": "5c211684-5f77-4c28-bd23-590a3ab0b368"
    },
    {
      "cell_type": "markdown",
      "source": "<h2>Exercise 6 - Create a markdown cell with a table of Data Science tools.",
      "metadata": {},
      "id": "22f68c77-7e82-427a-8e8d-12c0a609989a"
    },
    {
      "cell_type": "markdown",
      "source": "<h2>Data Science Tools:\n\n<table style=\"width:50%\">\n  <tr>\n    <th>Data Science tools</th>\n    <th></th>\n    <th></th>\n  </tr>\n  <tr>\n    <td>Apache Hadoop </td>\n    <td></td>\n    <td></td>\n  </tr>\n  <tr>\n    <td>Apache Spark</td>\n    <td></td>\n    <td></td>\n  </tr>\n  <tr>\n    <td>TensorFlow</td>\n    <td></td>\n    <td></td>\n  </tr>\n    <tr>\n    <td>MangoDB</td>\n    <td></td>\n    <td></td>\n  </tr>\n</table>",
      "metadata": {},
      "id": "34f750eb-46e1-46e8-b8a1-45bf703d5cdb"
    },
    {
      "cell_type": "markdown",
      "source": "<h2>Exercise 7 - Create a markdown cell introducing arithmetic expression examples.",
      "metadata": {},
      "id": "0ff5d698-28c6-4af7-9fbf-3c8aeac5c162"
    },
    {
      "cell_type": "markdown",
      "source": "<h2>Arithmetic expression examples:\n<ol>\n    <li>Addition.\n    <li>Substraction.\n    <li>Multiplication.\n    <li>Division.\n</ol>",
      "metadata": {},
      "id": "1c7e15b4-b74c-4e19-aaed-49c0a8a01cda"
    },
    {
      "cell_type": "code",
      "source": "# Addition\ncode1 = compile(\"1 + 2\", \"<string>\", \"eval\")\neval(code1)\n# Result: 3\n",
      "metadata": {
        "trusted": true
      },
      "execution_count": 11,
      "outputs": [
        {
          "execution_count": 11,
          "output_type": "execute_result",
          "data": {
            "text/plain": "3"
          },
          "metadata": {}
        }
      ],
      "id": "1b0019a7-0338-4d65-863d-3a35f0ca72ff"
    },
    {
      "cell_type": "code",
      "source": "# Substraction\ncode2 = compile(\"7 - 2\", \"<string>\", \"eval\")\neval(code2)\n# Result: 5",
      "metadata": {
        "trusted": true
      },
      "execution_count": 12,
      "outputs": [
        {
          "execution_count": 12,
          "output_type": "execute_result",
          "data": {
            "text/plain": "5"
          },
          "metadata": {}
        }
      ],
      "id": "ee49c688-2610-4a78-8947-d12f976e940a"
    },
    {
      "cell_type": "code",
      "source": "# Multiplication\ncode3 = compile(\"3 * 4\", \"<string>\", \"eval\")\neval(code3)\n# Result: 12",
      "metadata": {
        "trusted": true
      },
      "execution_count": 13,
      "outputs": [
        {
          "execution_count": 13,
          "output_type": "execute_result",
          "data": {
            "text/plain": "12"
          },
          "metadata": {}
        }
      ],
      "id": "812b1380-c75c-4854-9eaf-707c1ca6740d"
    },
    {
      "cell_type": "code",
      "source": "# division\ncode4 = compile(\"100 / 2\", \"<string>\", \"eval\")\neval(code4)\n# Result: 50.0",
      "metadata": {
        "trusted": true
      },
      "execution_count": 14,
      "outputs": [
        {
          "execution_count": 14,
          "output_type": "execute_result",
          "data": {
            "text/plain": "50.0"
          },
          "metadata": {}
        }
      ],
      "id": "76072979-c1b1-441d-aa0f-ea9ff1a5bdf2"
    },
    {
      "cell_type": "markdown",
      "source": "<h2>Exercise 8 - Create a code cell to multiply and add numbers.",
      "metadata": {},
      "id": "631c4d61-6e2b-45ac-a6a7-e12c80a37434"
    },
    {
      "cell_type": "code",
      "source": "# multiply and add numbers\n(8*7)+2\n# Result: 58",
      "metadata": {
        "trusted": true
      },
      "execution_count": 15,
      "outputs": [
        {
          "execution_count": 15,
          "output_type": "execute_result",
          "data": {
            "text/plain": "58"
          },
          "metadata": {}
        }
      ],
      "id": "ae03f72b-2c05-4884-ae94-adc07167487d"
    },
    {
      "cell_type": "markdown",
      "source": "<h2>Exercise 9 - Create a code cell to convert minutes to hours.",
      "metadata": {},
      "id": "0d55da1f-c304-40e5-84ce-14243b70e2c0"
    },
    {
      "cell_type": "code",
      "source": "mins = 100\nhours = mins / 60\nprint(str(hours))\n\n# Result: 1.6666666666666667 hours",
      "metadata": {
        "trusted": true
      },
      "execution_count": 16,
      "outputs": [
        {
          "name": "stdout",
          "text": "1.6666666666666667\n",
          "output_type": "stream"
        }
      ],
      "id": "383731de-c25b-4b4f-a1ce-44f26b6ae2ab"
    },
    {
      "cell_type": "markdown",
      "source": "<h2>Exercise 10 - Insert a markdown cell to list Objectives.",
      "metadata": {},
      "id": "8df63065-35dc-4418-a0dc-51c8589c0ce6"
    },
    {
      "cell_type": "markdown",
      "source": "<h2> Objectives:\n<ol>\n<li>Collection of Items.\n<li>Ordered Elements.\n<li>Mutability.\n<li>Dynamic Size.\n<li>Iteration and Access.\n<li>Versatility.\n<li>Concatenation and Repetition.\n<li>Data Organization.",
      "metadata": {},
      "id": "2ab21b9e-1ba9-4739-a770-c672cb525d65"
    },
    {
      "cell_type": "markdown",
      "source": "<h2>Exercise 11 - Create a markdown cell to indicate the Author’s name.",
      "metadata": {},
      "id": "2fe637ac-7c3c-4053-9a9f-7cadbb99d5b6"
    },
    {
      "cell_type": "markdown",
      "source": "<h2>Author: Tianxiao Xiao",
      "metadata": {},
      "id": "ee566760-e4a1-4439-baf6-5e54e551929f"
    },
    {
      "cell_type": "markdown",
      "source": "<h2>Exercise 12 - Share your notebook through GitHub.",
      "metadata": {},
      "id": "e3251408-4e71-4656-9d9a-272471676aa7"
    }
  ]
}